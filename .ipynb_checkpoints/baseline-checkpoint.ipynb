{
 "cells": [
  {
   "cell_type": "code",
   "execution_count": 1,
   "metadata": {},
   "outputs": [
    {
     "name": "stdout",
     "output_type": "stream",
     "text": [
      "Wall time: 6.3 s\n"
     ]
    }
   ],
   "source": [
    "%%time\n",
    "import pandas as pd\n",
    "import os\n",
    "import numpy as np\n",
    "import torch\n",
    "import torch_geometric\n",
    "from sklearn.preprocessing import LabelEncoder\n",
    "import gc\n",
    "from torch_geometric.data import Data\n",
    "\n",
    "# item_feature = pd.read_csv('../data/item_feature.csv')\n",
    "# test = pd.read_csv('../data/test.csv')\n",
    "# user_feature = pd.read_csv('../data/user_feature.csv')\n",
    "train = pd.read_pickle('../data/sml_train.pkl')"
   ]
  },
  {
   "cell_type": "code",
   "execution_count": 2,
   "metadata": {},
   "outputs": [
    {
     "data": {
      "text/html": [
       "<div>\n",
       "<style scoped>\n",
       "    .dataframe tbody tr th:only-of-type {\n",
       "        vertical-align: middle;\n",
       "    }\n",
       "\n",
       "    .dataframe tbody tr th {\n",
       "        vertical-align: top;\n",
       "    }\n",
       "\n",
       "    .dataframe thead th {\n",
       "        text-align: right;\n",
       "    }\n",
       "</style>\n",
       "<table border=\"1\" class=\"dataframe\">\n",
       "  <thead>\n",
       "    <tr style=\"text-align: right;\">\n",
       "      <th></th>\n",
       "      <th>user_id</th>\n",
       "      <th>item_id</th>\n",
       "      <th>behavior_type</th>\n",
       "      <th>date</th>\n",
       "    </tr>\n",
       "  </thead>\n",
       "  <tbody>\n",
       "    <tr>\n",
       "      <th>0</th>\n",
       "      <td>1.732029e+09</td>\n",
       "      <td>3.193364e+08</td>\n",
       "      <td>clk</td>\n",
       "      <td>2019-06-19</td>\n",
       "    </tr>\n",
       "    <tr>\n",
       "      <th>2</th>\n",
       "      <td>1.732029e+09</td>\n",
       "      <td>1.197152e+09</td>\n",
       "      <td>clk</td>\n",
       "      <td>2019-06-19</td>\n",
       "    </tr>\n",
       "    <tr>\n",
       "      <th>3</th>\n",
       "      <td>1.732029e+09</td>\n",
       "      <td>1.145630e+09</td>\n",
       "      <td>clk</td>\n",
       "      <td>2019-06-19</td>\n",
       "    </tr>\n",
       "    <tr>\n",
       "      <th>5</th>\n",
       "      <td>1.732029e+09</td>\n",
       "      <td>1.162473e+09</td>\n",
       "      <td>clk</td>\n",
       "      <td>2019-06-19</td>\n",
       "    </tr>\n",
       "    <tr>\n",
       "      <th>7</th>\n",
       "      <td>1.732029e+09</td>\n",
       "      <td>1.128524e+09</td>\n",
       "      <td>clk</td>\n",
       "      <td>2019-06-19</td>\n",
       "    </tr>\n",
       "  </tbody>\n",
       "</table>\n",
       "</div>"
      ],
      "text/plain": [
       "        user_id       item_id behavior_type       date\n",
       "0  1.732029e+09  3.193364e+08           clk 2019-06-19\n",
       "2  1.732029e+09  1.197152e+09           clk 2019-06-19\n",
       "3  1.732029e+09  1.145630e+09           clk 2019-06-19\n",
       "5  1.732029e+09  1.162473e+09           clk 2019-06-19\n",
       "7  1.732029e+09  1.128524e+09           clk 2019-06-19"
      ]
     },
     "execution_count": 2,
     "metadata": {},
     "output_type": "execute_result"
    }
   ],
   "source": [
    "train.head()"
   ]
  },
  {
   "cell_type": "markdown",
   "metadata": {},
   "source": [
    "### baseline思路(时间序列思路，未解决推荐问题和冷启动问题)\n",
    "1. 根据历史clk记录预测未来可能重复clk的user-item pair\n",
    "2. 历史clk记录可以用user-item二部图来表示，user和item作为节点，其中的边作为clk记录\n",
    "3. feature为user_embedding和item_embedding，通过concat两者的embedding后接MLP得到user-item pair的预测值\n",
    "4. label为历史clk边中重复clk的边  \n",
    "\n",
    "---\n",
    "由于内存不足，事先在服务器筛了训练数据中18-20号的数据，用18-19号的clk预测20号会重复clk的。   "
   ]
  },
  {
   "cell_type": "code",
   "execution_count": 3,
   "metadata": {},
   "outputs": [
    {
     "name": "stdout",
     "output_type": "stream",
     "text": [
      "Wall time: 54.3 s\n"
     ]
    },
    {
     "data": {
      "text/plain": [
       "42"
      ]
     },
     "execution_count": 3,
     "metadata": {},
     "output_type": "execute_result"
    }
   ],
   "source": [
    "%%time\n",
    "train = train[train.behavior_type=='clk']\n",
    "his = train[train.date<'2019-06-20'].drop_duplicates(subset=['user_id','item_id'])\n",
    "now = train[train.date>='2019-06-20']\n",
    "del train\n",
    "train = his[['user_id','item_id']].merge(now[['user_id','item_id','behavior_type']],how='left')\n",
    "del his,now\n",
    "gc.collect()"
   ]
  },
  {
   "cell_type": "markdown",
   "metadata": {},
   "source": [
    "## build model"
   ]
  },
  {
   "cell_type": "code",
   "execution_count": 4,
   "metadata": {},
   "outputs": [
    {
     "name": "stdout",
     "output_type": "stream",
     "text": [
      "Wall time: 9.81 s\n"
     ]
    }
   ],
   "source": [
    "%%time\n",
    "train = pd.concat([train[train.behavior_type.isnull()==False],train[train.behavior_type.isnull()==True].sample(3000000)],axis=0)\n",
    "# 显存不足，下采样\n",
    "train['behavior_type'] = train['behavior_type'].fillna(0)\n",
    "train['behavior_type'] = train['behavior_type'].map({'clk':1})\n",
    "\n",
    "u_enc,i_enc = LabelEncoder().fit(train['user_id']),LabelEncoder().fit(train['item_id'])\n",
    "train['user_id'] = u_enc.transform(train['user_id'])\n",
    "train['item_id'] = i_enc.transform(train['item_id'])+u_enc.classes_.shape[0]\n",
    "\n",
    "edge_index = torch.tensor([train['user_id'].values,train['item_id'].values])\n",
    "u = torch.tensor(train['user_id'].unique().reshape(-1,1))\n",
    "i = torch.tensor(train['item_id'].unique().reshape(-1,1))\n",
    "y = torch.tensor(train['behavior_type'].fillna(0).values,dtype=torch.long)\n",
    "data = Data(u=u,i=i,edge_index=edge_index,y=y)"
   ]
  },
  {
   "cell_type": "code",
   "execution_count": null,
   "metadata": {},
   "outputs": [],
   "source": [
    "device = torch.device('cuda' if torch.cuda.is_available() else 'cpu')\n",
    "data = data.to(device)"
   ]
  },
  {
   "cell_type": "code",
   "execution_count": 59,
   "metadata": {},
   "outputs": [
    {
     "name": "stdout",
     "output_type": "stream",
     "text": [
      "positive label ratio:  0.2816764522287305\n"
     ]
    }
   ],
   "source": [
    "print('positive label ratio: ',data.y.sum().item()/data.y.shape[0])"
   ]
  },
  {
   "cell_type": "code",
   "execution_count": 60,
   "metadata": {},
   "outputs": [
    {
     "name": "stderr",
     "output_type": "stream",
     "text": [
      "D:\\anaconda\\envs\\torch_env\\lib\\site-packages\\torch_geometric\\data\\data.py:191: UserWarning: The number of nodes in your data object can only be inferred by its edge indices, and hence may result in unexpected batch-wise behavior, e.g., in case there exists isolated nodes. Please consider explicitly setting the number of nodes for this data object by assigning it to data.num_nodes.\n",
      "  warnings.warn(__num_nodes_warn_msg__.format('edge'))\n"
     ]
    },
    {
     "data": {
      "text/plain": [
       "False"
      ]
     },
     "execution_count": 60,
     "metadata": {},
     "output_type": "execute_result"
    }
   ],
   "source": [
    "data.contains_isolated_nodes()"
   ]
  },
  {
   "cell_type": "code",
   "execution_count": 69,
   "metadata": {},
   "outputs": [
    {
     "name": "stderr",
     "output_type": "stream",
     "text": [
      "D:\\anaconda\\envs\\torch_env\\lib\\site-packages\\torch_geometric\\data\\data.py:191: UserWarning: The number of nodes in your data object can only be inferred by its edge indices, and hence may result in unexpected batch-wise behavior, e.g., in case there exists isolated nodes. Please consider explicitly setting the number of nodes for this data object by assigning it to data.num_nodes.\n",
      "  warnings.warn(__num_nodes_warn_msg__.format('edge'))\n"
     ]
    },
    {
     "data": {
      "text/plain": [
       "2243363"
      ]
     },
     "execution_count": 69,
     "metadata": {},
     "output_type": "execute_result"
    }
   ],
   "source": [
    "data.num_nodes"
   ]
  },
  {
   "cell_type": "code",
   "execution_count": 68,
   "metadata": {},
   "outputs": [
    {
     "data": {
      "text/plain": [
       "4176391"
      ]
     },
     "execution_count": 68,
     "metadata": {},
     "output_type": "execute_result"
    }
   ],
   "source": [
    "data.num_edges"
   ]
  },
  {
   "cell_type": "code",
   "execution_count": 66,
   "metadata": {},
   "outputs": [
    {
     "data": {
      "text/plain": [
       "torch.Size([776543, 1])"
      ]
     },
     "execution_count": 66,
     "metadata": {},
     "output_type": "execute_result"
    }
   ],
   "source": [
    "data.u.shape # number of user"
   ]
  },
  {
   "cell_type": "code",
   "execution_count": 67,
   "metadata": {},
   "outputs": [
    {
     "data": {
      "text/plain": [
       "torch.Size([1466820, 1])"
      ]
     },
     "execution_count": 67,
     "metadata": {},
     "output_type": "execute_result"
    }
   ],
   "source": [
    "data.i.shape # number of item"
   ]
  },
  {
   "cell_type": "code",
   "execution_count": 70,
   "metadata": {},
   "outputs": [
    {
     "data": {
      "text/plain": [
       "3.6665601930725125e-06"
      ]
     },
     "execution_count": 70,
     "metadata": {},
     "output_type": "execute_result"
    }
   ],
   "source": [
    "data.num_edges/(data.u.shape[0]*data.i.shape[0]) # very sparse"
   ]
  },
  {
   "cell_type": "code",
   "execution_count": 6,
   "metadata": {},
   "outputs": [],
   "source": [
    "from torch_geometric.nn import GCNConv\n",
    "import torch.nn.functional as F\n",
    "\n",
    "\n",
    "# hyper param\n",
    "EMB_DIM = 10\n",
    "\n",
    "class Net(torch.nn.Module):\n",
    "    def __init__(self):\n",
    "        super(Net, self).__init__()\n",
    "        self.u_emb = torch.nn.Embedding(len(u),EMB_DIM)\n",
    "        self.i_emb = torch.nn.Embedding(len(i),EMB_DIM)\n",
    "        self.conv1 = GCNConv(EMB_DIM*2,EMB_DIM)\n",
    "        self.conv2 = GCNConv(EMB_DIM,8)\n",
    "        self.lin = torch.nn.Linear(8,2)\n",
    "        \n",
    "    def forward(self, data):\n",
    "        u,i,edge_index = data.u,data.i,data.edge_index\n",
    "        \n",
    "        emb_u = self.u_emb(u[edge_index[0]]).view(-1,EMB_DIM)\n",
    "        emb_i = self.i_emb(i[(edge_index[1]-u_enc.classes_.shape[0])]-u_enc.classes_.shape[0]).view(-1,EMB_DIM)\n",
    "        \n",
    "        x = torch.cat([emb_u,emb_i],dim=1)\n",
    "        x = self.conv1(x,edge_index)\n",
    "        x = F.relu(x)\n",
    "        x = F.dropout(x,training=self.training)\n",
    "        x = self.conv2(x,edge_index)\n",
    "        x = F.relu(x)\n",
    "        x = F.dropout(x,training=self.training)\n",
    "        \n",
    "        x = self.lin(x)\n",
    "        return F.log_softmax(x,dim=1)\n",
    "    \n"
   ]
  },
  {
   "cell_type": "code",
   "execution_count": 8,
   "metadata": {
    "scrolled": true
   },
   "outputs": [],
   "source": []
  },
  {
   "cell_type": "code",
   "execution_count": 58,
   "metadata": {},
   "outputs": [
    {
     "name": "stdout",
     "output_type": "stream",
     "text": [
      "tensor(0.7049, device='cuda:0', grad_fn=<NllLossBackward>)\n",
      "0.6750931605781164\n",
      "tensor(0.7053, device='cuda:0', grad_fn=<NllLossBackward>)\n",
      "0.674996905222715\n",
      "tensor(0.7048, device='cuda:0', grad_fn=<NllLossBackward>)\n",
      "0.6750962733134901\n",
      "tensor(0.7049, device='cuda:0', grad_fn=<NllLossBackward>)\n",
      "0.6753460104669319\n",
      "tensor(0.7050, device='cuda:0', grad_fn=<NllLossBackward>)\n",
      "0.6751274006672268\n",
      "tensor(0.7052, device='cuda:0', grad_fn=<NllLossBackward>)\n",
      "0.6751913314629785\n",
      "tensor(0.7050, device='cuda:0', grad_fn=<NllLossBackward>)\n",
      "0.6752758542004329\n",
      "tensor(0.7051, device='cuda:0', grad_fn=<NllLossBackward>)\n",
      "0.675027314252904\n",
      "tensor(0.7051, device='cuda:0', grad_fn=<NllLossBackward>)\n",
      "0.6748395923657531\n",
      "tensor(0.7052, device='cuda:0', grad_fn=<NllLossBackward>)\n",
      "0.6751312317261482\n"
     ]
    }
   ],
   "source": [
    "model = Net().to(device)\n",
    "optimizer = torch.optim.Adam(model.parameters(), lr=0.01, weight_decay=5e-4)\n",
    "weight = torch.tensor([1,1.075],dtype=torch.float).to(device)\n",
    "\n",
    "model.train()\n",
    "for epoch in range(50):\n",
    "    optimizer.zero_grad()\n",
    "    out = model(data)\n",
    "    loss = F.nll_loss(out[],data.y,weight=weight)\n",
    "    loss.backward()\n",
    "    optimizer.step\n",
    "    if epoch%5==0:\n",
    "        print(loss)\n",
    "        _,pred = model(data).max(dim=1) \n",
    "        print(pred.eq(data.y).sum().item()/data.y.shape[0])"
   ]
  },
  {
   "cell_type": "markdown",
   "metadata": {
    "scrolled": true
   },
   "source": [
    "### evalutate"
   ]
  },
  {
   "cell_type": "code",
   "execution_count": 55,
   "metadata": {},
   "outputs": [
    {
     "name": "stdout",
     "output_type": "stream",
     "text": [
      "accuracy:  0.6830433261636661\n",
      "recall:  0.149021881330272\n",
      "precision:  0.3520523736846333\n",
      "f1:  0.2094041213580665\n"
     ]
    }
   ],
   "source": [
    "from sklearn.metrics import accuracy_score,recall_score,precision_score,f1_score\n",
    "train['pred'] = pred.to('cpu').numpy()\n",
    "print('accuracy: ',accuracy_score(train['behavior_type'].fillna(0),train['pred']))\n",
    "print('recall: ',recall_score(train['behavior_type'].fillna(0), train['pred']))\n",
    "print('precision: ',precision_score(train['behavior_type'].fillna(0), train['pred']))\n",
    "print('f1: ',f1_score(train['behavior_type'].fillna(0), train['pred']))"
   ]
  },
  {
   "cell_type": "code",
   "execution_count": 56,
   "metadata": {},
   "outputs": [
    {
     "data": {
      "text/plain": [
       "0    3678431\n",
       "1     497960\n",
       "Name: pred, dtype: int64"
      ]
     },
     "execution_count": 56,
     "metadata": {},
     "output_type": "execute_result"
    }
   ],
   "source": [
    "train.pred.value_counts()"
   ]
  },
  {
   "cell_type": "code",
   "execution_count": 57,
   "metadata": {},
   "outputs": [
    {
     "data": {
      "text/plain": [
       "0.0    3000000\n",
       "1.0    1176391\n",
       "Name: behavior_type, dtype: int64"
      ]
     },
     "execution_count": 57,
     "metadata": {},
     "output_type": "execute_result"
    }
   ],
   "source": [
    "train.behavior_type.fillna(0).value_counts()"
   ]
  },
  {
   "cell_type": "code",
   "execution_count": null,
   "metadata": {},
   "outputs": [],
   "source": []
  }
 ],
 "metadata": {
  "kernelspec": {
   "display_name": "Python 3",
   "language": "python",
   "name": "python3"
  },
  "language_info": {
   "codemirror_mode": {
    "name": "ipython",
    "version": 3
   },
   "file_extension": ".py",
   "mimetype": "text/x-python",
   "name": "python",
   "nbconvert_exporter": "python",
   "pygments_lexer": "ipython3",
   "version": "3.7.3"
  }
 },
 "nbformat": 4,
 "nbformat_minor": 2
}
