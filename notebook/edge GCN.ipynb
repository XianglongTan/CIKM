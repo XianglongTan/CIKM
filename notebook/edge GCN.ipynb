{
 "cells": [
  {
   "cell_type": "code",
   "execution_count": 1,
   "metadata": {},
   "outputs": [
    {
     "name": "stderr",
     "output_type": "stream",
     "text": [
      "C:\\Users\\user\\Anaconda3\\lib\\site-packages\\h5py\\__init__.py:36: FutureWarning: Conversion of the second argument of issubdtype from `float` to `np.floating` is deprecated. In future, it will be treated as `np.float64 == np.dtype(float).type`.\n",
      "  from ._conv import register_converters as _register_converters\n"
     ]
    },
    {
     "name": "stdout",
     "output_type": "stream",
     "text": [
      "Wall time: 53.9 s\n"
     ]
    }
   ],
   "source": [
    "%%time\n",
    "import pandas as pd\n",
    "import os\n",
    "import numpy as np\n",
    "import torch\n",
    "import torch_geometric\n",
    "from sklearn.preprocessing import LabelEncoder\n",
    "import gc\n",
    "from torch_geometric.data import Data\n",
    "\n",
    "# item_feature = pd.read_csv('../data/item_feature.csv')\n",
    "# test = pd.read_csv('../data/test.csv')\n",
    "# user_feature = pd.read_csv('../data/user_feature.csv')\n",
    "train = pd.read_pickle('../data/sml_train.pkl')"
   ]
  },
  {
   "cell_type": "code",
   "execution_count": 2,
   "metadata": {},
   "outputs": [
    {
     "data": {
      "text/html": [
       "<div>\n",
       "<style scoped>\n",
       "    .dataframe tbody tr th:only-of-type {\n",
       "        vertical-align: middle;\n",
       "    }\n",
       "\n",
       "    .dataframe tbody tr th {\n",
       "        vertical-align: top;\n",
       "    }\n",
       "\n",
       "    .dataframe thead th {\n",
       "        text-align: right;\n",
       "    }\n",
       "</style>\n",
       "<table border=\"1\" class=\"dataframe\">\n",
       "  <thead>\n",
       "    <tr style=\"text-align: right;\">\n",
       "      <th></th>\n",
       "      <th>user_id</th>\n",
       "      <th>item_id</th>\n",
       "      <th>behavior_type</th>\n",
       "      <th>date</th>\n",
       "    </tr>\n",
       "  </thead>\n",
       "  <tbody>\n",
       "    <tr>\n",
       "      <th>0</th>\n",
       "      <td>1.732029e+09</td>\n",
       "      <td>3.193364e+08</td>\n",
       "      <td>clk</td>\n",
       "      <td>2019-06-19</td>\n",
       "    </tr>\n",
       "    <tr>\n",
       "      <th>2</th>\n",
       "      <td>1.732029e+09</td>\n",
       "      <td>1.197152e+09</td>\n",
       "      <td>clk</td>\n",
       "      <td>2019-06-19</td>\n",
       "    </tr>\n",
       "    <tr>\n",
       "      <th>3</th>\n",
       "      <td>1.732029e+09</td>\n",
       "      <td>1.145630e+09</td>\n",
       "      <td>clk</td>\n",
       "      <td>2019-06-19</td>\n",
       "    </tr>\n",
       "    <tr>\n",
       "      <th>5</th>\n",
       "      <td>1.732029e+09</td>\n",
       "      <td>1.162473e+09</td>\n",
       "      <td>clk</td>\n",
       "      <td>2019-06-19</td>\n",
       "    </tr>\n",
       "    <tr>\n",
       "      <th>7</th>\n",
       "      <td>1.732029e+09</td>\n",
       "      <td>1.128524e+09</td>\n",
       "      <td>clk</td>\n",
       "      <td>2019-06-19</td>\n",
       "    </tr>\n",
       "  </tbody>\n",
       "</table>\n",
       "</div>"
      ],
      "text/plain": [
       "        user_id       item_id behavior_type       date\n",
       "0  1.732029e+09  3.193364e+08           clk 2019-06-19\n",
       "2  1.732029e+09  1.197152e+09           clk 2019-06-19\n",
       "3  1.732029e+09  1.145630e+09           clk 2019-06-19\n",
       "5  1.732029e+09  1.162473e+09           clk 2019-06-19\n",
       "7  1.732029e+09  1.128524e+09           clk 2019-06-19"
      ]
     },
     "execution_count": 2,
     "metadata": {},
     "output_type": "execute_result"
    }
   ],
   "source": [
    "train.head()"
   ]
  },
  {
   "cell_type": "markdown",
   "metadata": {},
   "source": [
    "### 加入edge信息的GCN(时间序列思路，未解决推荐问题和冷启动问题)\n",
    "1. 根据历史 __所有behavior边__ 预测未来可能在这些边中是clk的概率\n",
    "2. __behavior__ 用 __user-item__ 二部图来表示， __user__ 和 __item__ 作为节点，边属性为 __behavior_type__\n",
    "3. 更新每个user/item feature时，concat 1-hop node embedding和edge_embedding，然后求均值作为新的user/item feature\n",
    "4. 最后concat __user_embedding__ , __item_embedding__ 作为user-item pair 的feature, 该user-item pair在未来是否发生clk作为label"
   ]
  },
  {
   "cell_type": "code",
   "execution_count": 3,
   "metadata": {},
   "outputs": [
    {
     "name": "stdout",
     "output_type": "stream",
     "text": [
      "Wall time: 1min 29s\n"
     ]
    }
   ],
   "source": [
    "%%time\n",
    "his = train[train.date<'2019-06-20'].drop_duplicates(subset=['user_id','item_id','behavior_type'])\n",
    "now = train[(train.date>='2019-06-20')&(train.behavior_type=='clk')].drop_duplicates(subset=['user_id','item_id'])\n",
    "del train\n",
    "now.rename(columns={'behavior_type':'label'},inplace=True)\n",
    "train = his[['user_id','item_id','behavior_type']].merge(now[['user_id','item_id','label']],how='left')\n",
    "del his,now\n",
    "gc.collect()\n",
    "train['label'] = train['label'].map({'clk':1})\n",
    "train['label'] = train['label'].fillna(0) "
   ]
  },
  {
   "cell_type": "markdown",
   "metadata": {},
   "source": [
    "### build model"
   ]
  },
  {
   "cell_type": "code",
   "execution_count": 5,
   "metadata": {},
   "outputs": [
    {
     "name": "stdout",
     "output_type": "stream",
     "text": [
      "Wall time: 18.8 s\n"
     ]
    }
   ],
   "source": [
    "%%time\n",
    "train = pd.concat([train[train.label==1],train[train.label==0].sample(2000000)],axis=0)\n",
    "# 显存不足，下采样\n",
    "\n",
    "u_enc,i_enc,e_enc = LabelEncoder().fit(train['user_id']),LabelEncoder().fit(train['item_id']),LabelEncoder().fit(train['behavior_type'])\n",
    "train['user_id'] = u_enc.transform(train['user_id'])\n",
    "train['item_id'] = i_enc.transform(train['item_id'])\n",
    "train['behavior_type'] = e_enc.transform(train['behavior_type'])"
   ]
  },
  {
   "cell_type": "code",
   "execution_count": 11,
   "metadata": {},
   "outputs": [
    {
     "data": {
      "text/plain": [
       "0.860387"
      ]
     },
     "execution_count": 11,
     "metadata": {},
     "output_type": "execute_result"
    }
   ],
   "source": [
    "# clk rate\n",
    "train.label.sum()/(train.shape[0]-train.label.sum())"
   ]
  },
  {
   "cell_type": "markdown",
   "metadata": {},
   "source": [
    "#### no edge GCN   \n",
    "不利用边属性信息，只用节点的embedding进行GCN"
   ]
  },
  {
   "cell_type": "code",
   "execution_count": 6,
   "metadata": {},
   "outputs": [],
   "source": [
    "edge_index = torch.tensor([train['user_id'].values,train['item_id'].values+1+train['user_id'].max()])\n",
    "edge_attr = torch.tensor(train.behavior_type.values, dtype=torch.long)\n",
    "u = torch.tensor(train['user_id'].unique().reshape(-1,1))\n",
    "i = torch.tensor(train['item_id'].unique().reshape(-1,1))\n",
    "e = torch.tensor(train['behavior_type'].unique().reshape(-1,1))\n",
    "y = torch.tensor(train.label.values,dtype=torch.long)\n",
    "data = Data(u=u,i=i,e=e,edge_index=edge_index,edge_attr=edge_attr,y=y)"
   ]
  },
  {
   "cell_type": "code",
   "execution_count": 7,
   "metadata": {},
   "outputs": [],
   "source": [
    "from torch_geometric.nn import GCNConv,MessagePassing\n",
    "import torch.nn.functional as F\n",
    "\n",
    "# hyper param\n",
    "EMB_DIM = 10\n",
    "\n",
    "class noedge_GCN(torch.nn.Module):\n",
    "    def __init__(self):\n",
    "        super(noedge_GCN, self).__init__()\n",
    "        self.u_emb = torch.nn.Embedding(len(u),EMB_DIM)\n",
    "        self.i_emb = torch.nn.Embedding(len(i),EMB_DIM)\n",
    "        self.conv1 = GCNConv(EMB_DIM,6)\n",
    "        self.conv2 = GCNConv(6,4)\n",
    "        self.lin = torch.nn.Linear(8,2)\n",
    "        \n",
    "    def forward(self, data):\n",
    "        u,i,e,edge_index,edge_attr = data.u,data.i,data.e,data.edge_index,data.edge_attr\n",
    "        \n",
    "        emb_u = self.u_emb(u).view(-1,EMB_DIM)\n",
    "        emb_i = self.i_emb(i).view(-1,EMB_DIM)\n",
    "        x = torch.cat([emb_u, emb_i],dim=0)\n",
    "        x = self.conv1(x,edge_index)\n",
    "        x = F.relu(x)\n",
    "        x = F.dropout(x,training=self.training)\n",
    "        x = self.conv2(x,edge_index)\n",
    "        x = F.relu(x)\n",
    "        x = F.dropout(x,training=self.training)\n",
    "        x = torch.cat([x[edge_index[0]],x[edge_index[1]]],dim=1)\n",
    "        x = self.lin(x)\n",
    "        x = F.dropout(x,training=self.training)\n",
    "        \n",
    "        return F.log_softmax(x,dim=1)\n",
    "        \n",
    "\n",
    "model = noedge_GCN()"
   ]
  },
  {
   "cell_type": "code",
   "execution_count": 12,
   "metadata": {},
   "outputs": [
    {
     "name": "stdout",
     "output_type": "stream",
     "text": [
      "epoch_0 loss: 0.8651493787765503\n",
      "epoch_1 loss: 0.7528172135353088\n",
      "epoch_2 loss: 0.7403311133384705\n",
      "epoch_3 loss: 0.7339281439781189\n",
      "epoch_4 loss: 0.7297651171684265\n",
      "epoch_5 loss: 0.7220962643623352\n",
      "epoch_6 loss: 0.7202253341674805\n",
      "epoch_7 loss: 0.7201514840126038\n",
      "epoch_8 loss: 0.7203397750854492\n",
      "epoch_9 loss: 0.721700131893158\n",
      "Wall time: 3min 35s\n"
     ]
    }
   ],
   "source": [
    "%%time\n",
    "model = noedge_GCN()\n",
    "optimizer = torch.optim.Adam(model.parameters(), lr=0.01, weight_decay=5e-4)\n",
    "weight = torch.tensor([0.860387,1],dtype=torch.float) # label的weight属于超参，需要调参！！！\n",
    "\n",
    "model.train()\n",
    "for epoch in range(10):\n",
    "    optimizer.zero_grad()\n",
    "    out = model(data)\n",
    "    loss = F.nll_loss(out, data.y,weight=weight)\n",
    "    loss.backward()\n",
    "    optimizer.step()\n",
    "    if epoch%1==0:\n",
    "        model.eval()\n",
    "        print('epoch_{} loss: {}'.format(epoch,loss.item()))"
   ]
  },
  {
   "cell_type": "code",
   "execution_count": 14,
   "metadata": {},
   "outputs": [
    {
     "name": "stdout",
     "output_type": "stream",
     "text": [
      "accuracy:  0.46687463414870134\n",
      "recall:  0.9499719312355951\n",
      "precision:  0.4627905982579322\n",
      "f1:  0.6223807175044113\n"
     ]
    }
   ],
   "source": [
    "from sklearn.metrics import accuracy_score,recall_score,precision_score,f1_score\n",
    "model.eval()\n",
    "_,pred = model(data).max(dim=1)\n",
    "train['pred'] = pred.numpy()\n",
    "print('accuracy: ',accuracy_score(train['label'],train['pred']))\n",
    "print('recall: ',recall_score(train['label'], train['pred']))\n",
    "print('precision: ',precision_score(train['label'], train['pred']))\n",
    "print('f1: ',f1_score(train['label'], train['pred']))"
   ]
  },
  {
   "cell_type": "markdown",
   "metadata": {},
   "source": [
    "#### edge GCN\n",
    "同时利用node_embedding和edge_embedding做GCN，最终每个节点的embedding是融合了该节点领域的node_embedding和edge_embedding  \n",
    "魔改GCN"
   ]
  },
  {
   "cell_type": "code",
   "execution_count": 18,
   "metadata": {},
   "outputs": [],
   "source": [
    "edge_index = torch.tensor([train['user_id'].values,train['item_id'].values])\n",
    "edge_attr = torch.tensor(train.behavior_type.values, dtype=torch.long)\n",
    "u = torch.tensor(train['user_id'].unique().reshape(-1,1))\n",
    "i = torch.tensor(train['item_id'].unique().reshape(-1,1))\n",
    "e = torch.tensor(train['behavior_type'].unique().reshape(-1,1))\n",
    "y = torch.tensor(train.label.values,dtype=torch.long)\n",
    "data = Data(u=u,i=i,e=e,edge_index=edge_index,edge_attr=edge_attr,y=y)"
   ]
  },
  {
   "cell_type": "code",
   "execution_count": 32,
   "metadata": {},
   "outputs": [],
   "source": [
    "import torch\n",
    "from torch_geometric.nn import MessagePassing\n",
    "from torch_geometric.utils import add_self_loops, degree\n",
    "\n",
    "class edgeGCN(MessagePassing):\n",
    "    \n",
    "    def __init__(self, in_channels, out_channels, flow, aggr='add', **kwargs):\n",
    "        super(edgeGCN, self).__init__(aggr=aggr,flow=flow)\n",
    "        self.lin_u = torch.nn.Linear(in_channels, out_channels)\n",
    "        self.lin_i = torch.nn.Linear(in_channels, out_channels)\n",
    "        self.lin_e = torch.nn.Linear(in_channels, out_channels)\n",
    "        self.lin_aggr = torch.nn.Linear(out_channels*2, out_channels)\n",
    "        self.flow = flow\n",
    "        \n",
    "    def forward(self,u,i,e,edge_index,edge_type):\n",
    "        \n",
    "        # linear transformation\n",
    "        u = self.lin_u(u)\n",
    "        u = F.relu(u)\n",
    "        u = F.dropout(u)\n",
    "        i = self.lin_i(i)\n",
    "        i = F.relu(i)\n",
    "        i = F.dropout(i)\n",
    "        e = self.lin_e(e)\n",
    "        e = F.relu(e)\n",
    "        e = F.dropout(e)        \n",
    "        \n",
    "        return self.propagate(x=(u,i),e=e,edge_index=edge_index,edge_type=edge_type,size=(u.size(0), i.size(0)))\n",
    "    \n",
    "    def message(self,x_j, x_i, e, edge_index, edge_type,size):\n",
    "        \n",
    "        # x_i is user_embedding\n",
    "        # x_j is item_embedding\n",
    "        \n",
    "        # get normalized laplacian\n",
    "        row,col = edge_index\n",
    "        deg_i = degree(row, size[0], dtype=x_i.dtype)\n",
    "        deg_j = degree(col, size[1], dtype=x_j.dtype)\n",
    "        deg_inv_sqrt_i = deg_i.pow(-0.5)\n",
    "        deg_inv_sqrt_j = deg_j.pow(-0.5)\n",
    "        norm = deg_inv_sqrt_i[row]*deg_inv_sqrt_j[col]\n",
    "        \n",
    "        # concat neighbor nodes embedding and edge embedding\n",
    "        if self.flow == 'target_to_source':\n",
    "            emb = torch.cat([x_j, e[edge_type]], dim=1)\n",
    "        else:\n",
    "            emb = torch.cat([x_i, e[edge_type]], dim=1)\n",
    "        return norm.view(-1,1)*emb\n",
    "        \n",
    "    def update(self, aggr_out):\n",
    "        return self.lin_aggr(aggr_out)"
   ]
  },
  {
   "cell_type": "code",
   "execution_count": 69,
   "metadata": {},
   "outputs": [],
   "source": [
    "# hyper param\n",
    "EMB_DIM = 10\n",
    "\n",
    "class Net(torch.nn.Module):\n",
    "    def __init__(self):\n",
    "        super(Net, self).__init__()\n",
    "        self.u_emb = torch.nn.Embedding(len(u),EMB_DIM)\n",
    "        self.i_emb = torch.nn.Embedding(len(i),EMB_DIM)\n",
    "        self.e_emb = torch.nn.Embedding(len(e),EMB_DIM)\n",
    "        self.e_lin_1 = torch.nn.Linear(EMB_DIM,6)\n",
    "        self.u_gcn_1 = edgeGCN(EMB_DIM,6,flow='target_to_source')\n",
    "        self.i_gcn_1 = edgeGCN(EMB_DIM,6,flow='source_to_target')\n",
    "        self.u_gcn_2 = edgeGCN(6,2,flow='target_to_source')\n",
    "        self.i_gcn_2 = edgeGCN(6,2,flow='source_to_target')\n",
    "        self.lin = torch.nn.Linear(4,2)\n",
    "        \n",
    "    def forward(self, data):\n",
    "        u,i,e,edge_index,edge_attr = data.u,data.i,data.e,data.edge_index,data.edge_attr\n",
    "        \n",
    "        u_emb = self.u_emb(u).view(-1,EMB_DIM)\n",
    "        i_emb = self.i_emb(i).view(-1,EMB_DIM)\n",
    "        e_emb = self.e_emb(e).view(-1,EMB_DIM)\n",
    "        \n",
    "        x_u,x_i = self.u_gcn_1(u=u_emb, i=i_emb, e=e_emb, edge_index=edge_index, edge_type = edge_attr),\\\n",
    "                    self.i_gcn_1(u=u_emb, i=i_emb, e=e_emb, edge_index=edge_index, edge_type = edge_attr)\n",
    "        e_emb = self.e_lin_1(e_emb)\n",
    "        x_u,x_i = self.u_gcn_2(u=x_u, i=x_i, e=e_emb, edge_index=edge_index, edge_type = edge_attr),\\\n",
    "                    self.i_gcn_2(u=x_u, i=x_i, e=e_emb, edge_index=edge_index, edge_type = edge_attr)\n",
    "\n",
    "        \n",
    "        x = torch.cat([x_u[edge_index[0]],x_i[edge_index[1]]],dim=1)\n",
    "        x = self.lin(x)\n",
    "        x = F.dropout(x,training=self.training)\n",
    "        \n",
    "        return F.log_softmax(x,dim=1)"
   ]
  },
  {
   "cell_type": "code",
   "execution_count": 73,
   "metadata": {},
   "outputs": [
    {
     "name": "stdout",
     "output_type": "stream",
     "text": [
      "epoch_0 loss: 0.8134878873825073\n",
      "epoch_1 loss: 0.7332140207290649\n",
      "epoch_2 loss: 0.7305666208267212\n",
      "epoch_3 loss: 0.7313019633293152\n",
      "Wall time: 1min 36s\n"
     ]
    }
   ],
   "source": [
    "%%time\n",
    "model = Net()\n",
    "optimizer = torch.optim.Adam(model.parameters(), lr=0.01, weight_decay=5e-4)\n",
    "weight = torch.tensor([0.860387,1],dtype=torch.float) # label的weight属于超参，需要调参！！！\n",
    "\n",
    "model.train()\n",
    "\n",
    "# train param\n",
    "patience = 0\n",
    "best_loss = 1\n",
    "\n",
    "for epoch in range(10):\n",
    "    optimizer.zero_grad()\n",
    "    out = model(data)\n",
    "    loss = F.nll_loss(out, data.y,weight=weight)\n",
    "    \n",
    "    if epoch%1==0:\n",
    "        model.eval()\n",
    "        print('epoch_{} loss: {}'.format(epoch,loss.item()))\n",
    "        \n",
    "    if loss>best_loss:\n",
    "        patience += 1\n",
    "        if patience == 2: \n",
    "            break\n",
    "    else:\n",
    "        patience = 0\n",
    "        best_loss = loss\n",
    "        \n",
    "    loss.backward()\n",
    "    optimizer.step()"
   ]
  },
  {
   "cell_type": "code",
   "execution_count": 74,
   "metadata": {},
   "outputs": [
    {
     "name": "stdout",
     "output_type": "stream",
     "text": [
      "accuracy:  0.5050347051446823\n",
      "recall:  0.5282611197054349\n",
      "precision:  0.468827943036212\n",
      "f1:  0.4967732239615924\n"
     ]
    }
   ],
   "source": [
    "from sklearn.metrics import accuracy_score,recall_score,precision_score,f1_score\n",
    "model.eval()\n",
    "_,pred = model(data).max(dim=1)\n",
    "train['pred'] = pred.numpy()\n",
    "print('accuracy: ',accuracy_score(train['label'],train['pred']))\n",
    "print('recall: ',recall_score(train['label'], train['pred']))\n",
    "print('precision: ',precision_score(train['label'], train['pred']))\n",
    "print('f1: ',f1_score(train['label'], train['pred']))"
   ]
  },
  {
   "cell_type": "code",
   "execution_count": null,
   "metadata": {},
   "outputs": [],
   "source": []
  },
  {
   "cell_type": "code",
   "execution_count": null,
   "metadata": {},
   "outputs": [],
   "source": []
  },
  {
   "cell_type": "code",
   "execution_count": null,
   "metadata": {},
   "outputs": [],
   "source": []
  },
  {
   "cell_type": "code",
   "execution_count": null,
   "metadata": {},
   "outputs": [],
   "source": []
  },
  {
   "cell_type": "code",
   "execution_count": null,
   "metadata": {},
   "outputs": [],
   "source": []
  },
  {
   "cell_type": "code",
   "execution_count": null,
   "metadata": {},
   "outputs": [],
   "source": []
  },
  {
   "cell_type": "code",
   "execution_count": null,
   "metadata": {},
   "outputs": [],
   "source": []
  },
  {
   "cell_type": "code",
   "execution_count": null,
   "metadata": {},
   "outputs": [],
   "source": []
  },
  {
   "cell_type": "code",
   "execution_count": null,
   "metadata": {},
   "outputs": [],
   "source": []
  },
  {
   "cell_type": "code",
   "execution_count": null,
   "metadata": {},
   "outputs": [],
   "source": []
  },
  {
   "cell_type": "code",
   "execution_count": null,
   "metadata": {},
   "outputs": [],
   "source": []
  },
  {
   "cell_type": "code",
   "execution_count": null,
   "metadata": {},
   "outputs": [],
   "source": []
  }
 ],
 "metadata": {
  "kernelspec": {
   "display_name": "Python 3",
   "language": "python",
   "name": "python3"
  },
  "language_info": {
   "codemirror_mode": {
    "name": "ipython",
    "version": 3
   },
   "file_extension": ".py",
   "mimetype": "text/x-python",
   "name": "python",
   "nbconvert_exporter": "python",
   "pygments_lexer": "ipython3",
   "version": "3.6.5"
  }
 },
 "nbformat": 4,
 "nbformat_minor": 2
}
